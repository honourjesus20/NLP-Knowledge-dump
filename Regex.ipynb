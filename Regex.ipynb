# import library Regular expression
import re

# you can write your reular expressions in a website called regex101.com
chat1 = 'codebasics: you ask lot of questions 😊 +1235678912, abc@xyz.com'
chat2 = 'codebasics: here it is:+(123)-567-8912, abc@xyz.com'
chat3 = 'codebasics: yes, phone:+1235678912 email: abc@xyz.com'

pattern = '\d{10}'
re.findall(pattern, chat1)

pattern = '\d{10}'
match1 = re.findall(pattern, chat1)
match1

pattern = '\d{10}'
match2 = re.findall(pattern, chat2)
match2

#to retrieve pattern in chat2
#use escape character for special treatment with no specific meaning
pattern ="\(\d{3}\)"
match2 = re.findall(pattern, chat2)
match2

#match all
pattern ="\(\d{3}\)-\d{3}-\d{4}"
match2 = re.findall(pattern, chat2)
match2

#match using this or that
pattern ="\d{10}|\(\d{3}\)-\d{3}-\d{4}"
match3 = re.findall(pattern, chat3)
match3

#matching characters in the email
pattern ="[a-z0-9A-Z_]*@[a-z0-9A-Z]*\.[a-zA-Z]*"
matchs = re.findall(pattern, chat3)
matchs

#matching characters in the email
pattern ="[a-z0-9A-Z_]*@[a-z0-9A-Z]*\.[a-zA-Z]*"
matchs = re.findall(pattern, chat3)
email = matchs[0]
email

chat1 = 'codebasics: Hello.I am having issues with my order # 4128899122com'
chat2 = 'codebasics: I have a problem with my order number 412889912'
chat3 = 'codebasics: My order 412889912 is having an issue, I was charged 300$ when online it says 280$'

#there are several ways of matching same things
#to get order number
pattern ="order[^\d]*\d*"
matchs = re.findall(pattern, chat1)
order = matchs[0]
order

#for order number only
pattern ="order[^\d]*(\d*)"
matchs = re.findall(pattern, chat1)
order_no = matchs[0]
order_no

texts = '''
Born	Elon Reeve Musk
June 28, 1971 (age 52)
Pretoria, Transvaal, South Africa
Citizenship	
South Africa
Canada
United States
Education	University of Pennsylvania (BA, BS)
Title	
Founder, CEO, and chief engineer of SpaceX
CEO and product architect of Tesla, Inc.
Owner and CTO of X, formerly Twitter
President of the Musk Foundation
Founder of The Boring Company, X Corp., and xAI
Co-founder of Neuralink, OpenAI, Zip2, and X.com (part of PayPal)
Spouses	
Justine Wilson
​
​(m. 2000; div. 2008)​
Talulah Riley
​
​(m. 2010; div. 2012)​

​(m. 2013; div. 2016)​
Partners	
Amber Heard (2015–2017)[1]
Grimes (2018–2021)[2]
Children	11[a][4]
Parents	
Errol Musk
Maye Musk
Relatives	
Kimbal Musk (brother)
Tosca Musk (sister)
Lyndon Rive (cousin)
Family	Musk family'''

pattern = 'age.(\d+)'

matches = re.findall(pattern, texts)
matches

pattern = "Born(.*)"

matches = re.findall(pattern, texts)
matches

pattern = "Born(.*)"
matches = re.findall(pattern, texts)
matches[0].strip()

pattern = "Born.*\n(.*)\(age"
matches = re.findall(pattern, texts)
matches[0].strip()

#to get the birth place
pattern = "\(age.*\n(.*)"
matches = re.findall(pattern, texts)
matches[0].strip()

#to prevent repetition
def get_pattern_match(pattern, text):
  matches = re.findall(pattern, text)
  if matches:
    return matches[0]

get_pattern_match('\(age.*\n(.*)', texts)