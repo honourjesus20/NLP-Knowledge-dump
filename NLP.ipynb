{
  "nbformat": 4,
  "nbformat_minor": 0,
  "metadata": {
    "colab": {
      "provenance": [],
      "authorship_tag": "ABX9TyMHSNa4bWI5w4a5udz376ih",
      "include_colab_link": true
    },
    "kernelspec": {
      "name": "python3",
      "display_name": "Python 3"
    },
    "language_info": {
      "name": "python"
    }
  },
  "cells": [
    {
      "cell_type": "markdown",
      "metadata": {
        "id": "view-in-github",
        "colab_type": "text"
      },
      "source": [
        "<a href=\"https://colab.research.google.com/github/honourjesus20/NLP-Knowledge-dump/blob/main/NLP.ipynb\" target=\"_parent\"><img src=\"https://colab.research.google.com/assets/colab-badge.svg\" alt=\"Open In Colab\"/></a>"
      ]
    },
    {
      "cell_type": "code",
      "execution_count": 1,
      "metadata": {
        "id": "fkNZJNUMj9Kx"
      },
      "outputs": [],
      "source": [
        "import re"
      ]
    },
    {
      "cell_type": "code",
      "source": [
        "# you can write your reular expressions in a website called regex101.com\n",
        "chat1 = 'codebasics: you ask lot of questions 😊 +1235678912, abc@xyz.com'\n",
        "chat2 = 'codebasics: here it is:+(123)-567-8912, abc@xyz.com'\n",
        "chat3 = 'codebasics: yes, phone:+1235678912 email: abc@xyz.com'"
      ],
      "metadata": {
        "id": "8W9o42iI2R7y"
      },
      "execution_count": 2,
      "outputs": []
    },
    {
      "cell_type": "code",
      "source": [
        "pattern = '\\d{10}'\n",
        "re.findall(pattern, chat1)"
      ],
      "metadata": {
        "colab": {
          "base_uri": "https://localhost:8080/"
        },
        "id": "ju4sPs973Hsa",
        "outputId": "17d8ba0a-32fb-4b8a-b379-e51f780f05ac"
      },
      "execution_count": 3,
      "outputs": [
        {
          "output_type": "execute_result",
          "data": {
            "text/plain": [
              "['1235678912']"
            ]
          },
          "metadata": {},
          "execution_count": 3
        }
      ]
    },
    {
      "cell_type": "code",
      "source": [
        "pattern = '\\d{10}'\n",
        "match1 = re.findall(pattern, chat1)\n",
        "match1"
      ],
      "metadata": {
        "colab": {
          "base_uri": "https://localhost:8080/"
        },
        "id": "iSdUpd-h3RFb",
        "outputId": "ed2304f1-24c1-4927-a4d6-b5064cc79487"
      },
      "execution_count": 4,
      "outputs": [
        {
          "output_type": "execute_result",
          "data": {
            "text/plain": [
              "['1235678912']"
            ]
          },
          "metadata": {},
          "execution_count": 4
        }
      ]
    },
    {
      "cell_type": "code",
      "source": [
        "pattern = '\\d{10}'\n",
        "match2 = re.findall(pattern, chat2)\n",
        "match2"
      ],
      "metadata": {
        "colab": {
          "base_uri": "https://localhost:8080/"
        },
        "id": "Al2ZflPr3gfy",
        "outputId": "0eb368c3-0c9f-48e1-a9c7-3796152ea07a"
      },
      "execution_count": 6,
      "outputs": [
        {
          "output_type": "execute_result",
          "data": {
            "text/plain": [
              "[]"
            ]
          },
          "metadata": {},
          "execution_count": 6
        }
      ]
    },
    {
      "cell_type": "code",
      "source": [
        "#to retrieve pattern in chat2\n",
        "#use escape character for special treatment with no specific meaning\n",
        "pattern =\"\\(\\d{3}\\)\"\n",
        "match2 = re.findall(pattern, chat2)\n",
        "match2"
      ],
      "metadata": {
        "colab": {
          "base_uri": "https://localhost:8080/"
        },
        "id": "YQxl01xb3k79",
        "outputId": "9d7274ed-a3c1-44e9-d105-f06648aaa04f"
      },
      "execution_count": 7,
      "outputs": [
        {
          "output_type": "execute_result",
          "data": {
            "text/plain": [
              "['(123)']"
            ]
          },
          "metadata": {},
          "execution_count": 7
        }
      ]
    },
    {
      "cell_type": "code",
      "source": [
        "#match all\n",
        "pattern =\"\\(\\d{3}\\)-\\d{3}-\\d{4}\"\n",
        "match2 = re.findall(pattern, chat2)\n",
        "match2"
      ],
      "metadata": {
        "colab": {
          "base_uri": "https://localhost:8080/"
        },
        "id": "A1CRbc_f4iXt",
        "outputId": "afa5d174-0569-4e8c-80c0-977e11a3181e"
      },
      "execution_count": 8,
      "outputs": [
        {
          "output_type": "execute_result",
          "data": {
            "text/plain": [
              "['(123)-567-8912']"
            ]
          },
          "metadata": {},
          "execution_count": 8
        }
      ]
    },
    {
      "cell_type": "code",
      "source": [
        "#match using this or that\n",
        "pattern =\"\\d{10}|\\(\\d{3}\\)-\\d{3}-\\d{4}\"\n",
        "match3 = re.findall(pattern, chat3)\n",
        "match3"
      ],
      "metadata": {
        "colab": {
          "base_uri": "https://localhost:8080/"
        },
        "id": "AN4_1o635NWG",
        "outputId": "87c613e0-13f1-48a1-d7d0-5d7ee41c50d1"
      },
      "execution_count": 10,
      "outputs": [
        {
          "output_type": "execute_result",
          "data": {
            "text/plain": [
              "['1235678912']"
            ]
          },
          "metadata": {},
          "execution_count": 10
        }
      ]
    },
    {
      "cell_type": "code",
      "source": [
        "#matching characters in the email\n",
        "pattern =\"[a-z0-9A-Z_]*@[a-z0-9A-Z]*\\.[a-zA-Z]*\"\n",
        "matchs = re.findall(pattern, chat3)\n",
        "matchs"
      ],
      "metadata": {
        "colab": {
          "base_uri": "https://localhost:8080/"
        },
        "id": "Dcg7jkot5gmy",
        "outputId": "7b7096bf-6794-4fda-9e56-d202474e2890"
      },
      "execution_count": 13,
      "outputs": [
        {
          "output_type": "execute_result",
          "data": {
            "text/plain": [
              "['abc@xyz.com']"
            ]
          },
          "metadata": {},
          "execution_count": 13
        }
      ]
    },
    {
      "cell_type": "code",
      "source": [
        "#matching characters in the email\n",
        "pattern =\"[a-z0-9A-Z_]*@[a-z0-9A-Z]*\\.[a-zA-Z]*\"\n",
        "matchs = re.findall(pattern, chat3)\n",
        "email = matchs[0]\n",
        "email"
      ],
      "metadata": {
        "colab": {
          "base_uri": "https://localhost:8080/",
          "height": 35
        },
        "id": "5q6dWLg49bmk",
        "outputId": "749ec1c9-d1dc-42c7-98e0-5ebc3358b9d1"
      },
      "execution_count": 14,
      "outputs": [
        {
          "output_type": "execute_result",
          "data": {
            "text/plain": [
              "'abc@xyz.com'"
            ],
            "application/vnd.google.colaboratory.intrinsic+json": {
              "type": "string"
            }
          },
          "metadata": {},
          "execution_count": 14
        }
      ]
    },
    {
      "cell_type": "code",
      "source": [
        "chat1 = 'codebasics: Hello.I am having issues with my order # 4128899122com'\n",
        "chat2 = 'codebasics: I have a problem with my order number 412889912'\n",
        "chat3 = 'codebasics: My order 412889912 is having an issue, I was charged 300$ when online it says 280$'"
      ],
      "metadata": {
        "id": "kwTM841K-XKH"
      },
      "execution_count": 15,
      "outputs": []
    },
    {
      "cell_type": "code",
      "source": [
        "#there are several ways of matching same things\n",
        "#to get order number\n",
        "pattern =\"order[^\\d]*\\d*\"\n",
        "matchs = re.findall(pattern, chat1)\n",
        "order = matchs[0]\n",
        "order"
      ],
      "metadata": {
        "colab": {
          "base_uri": "https://localhost:8080/",
          "height": 35
        },
        "id": "U_g5r5jQ8dVN",
        "outputId": "7b10864c-76dc-467a-945b-c57f6439fcaa"
      },
      "execution_count": 16,
      "outputs": [
        {
          "output_type": "execute_result",
          "data": {
            "text/plain": [
              "'order # 4128899122'"
            ],
            "application/vnd.google.colaboratory.intrinsic+json": {
              "type": "string"
            }
          },
          "metadata": {},
          "execution_count": 16
        }
      ]
    },
    {
      "cell_type": "code",
      "source": [
        "#for order number only\n",
        "pattern =\"order[^\\d]*(\\d*)\"\n",
        "matchs = re.findall(pattern, chat1)\n",
        "order_no = matchs[0]\n",
        "order_no"
      ],
      "metadata": {
        "colab": {
          "base_uri": "https://localhost:8080/",
          "height": 35
        },
        "id": "9GrpftOuAMe2",
        "outputId": "ed8b60b4-f88e-47b9-e601-20788a8accfb"
      },
      "execution_count": 17,
      "outputs": [
        {
          "output_type": "execute_result",
          "data": {
            "text/plain": [
              "'4128899122'"
            ],
            "application/vnd.google.colaboratory.intrinsic+json": {
              "type": "string"
            }
          },
          "metadata": {},
          "execution_count": 17
        }
      ]
    },
    {
      "cell_type": "code",
      "source": [
        "texts = '''\n",
        "Born\tElon Reeve Musk\n",
        "June 28, 1971 (age 52)\n",
        "Pretoria, Transvaal, South Africa\n",
        "Citizenship\n",
        "South Africa\n",
        "Canada\n",
        "United States\n",
        "Education\tUniversity of Pennsylvania (BA, BS)\n",
        "Title\n",
        "Founder, CEO, and chief engineer of SpaceX\n",
        "CEO and product architect of Tesla, Inc.\n",
        "Owner and CTO of X, formerly Twitter\n",
        "President of the Musk Foundation\n",
        "Founder of The Boring Company, X Corp., and xAI\n",
        "Co-founder of Neuralink, OpenAI, Zip2, and X.com (part of PayPal)\n",
        "Spouses\n",
        "Justine Wilson\n",
        "​\n",
        "​(m. 2000; div. 2008)​\n",
        "Talulah Riley\n",
        "​\n",
        "​(m. 2010; div. 2012)​\n",
        "​\n",
        "​(m. 2013; div. 2016)​\n",
        "Partners\n",
        "Amber Heard (2015–2017)[1]\n",
        "Grimes (2018–2021)[2]\n",
        "Children\t11[a][4]\n",
        "Parents\n",
        "Errol Musk\n",
        "Maye Musk\n",
        "Relatives\n",
        "Kimbal Musk (brother)\n",
        "Tosca Musk (sister)\n",
        "Lyndon Rive (cousin)\n",
        "Family\tMusk family'''"
      ],
      "metadata": {
        "id": "Whaw-tsrAyUI"
      },
      "execution_count": 18,
      "outputs": []
    },
    {
      "cell_type": "code",
      "source": [
        "pattern = 'age.(\\d+)'\n",
        "\n",
        "matches = re.findall(pattern, texts)\n",
        "matches"
      ],
      "metadata": {
        "colab": {
          "base_uri": "https://localhost:8080/"
        },
        "id": "hDCUC1TPLdJy",
        "outputId": "7a301f89-ce43-4a58-afb6-4e083a695858"
      },
      "execution_count": 20,
      "outputs": [
        {
          "output_type": "execute_result",
          "data": {
            "text/plain": [
              "['52']"
            ]
          },
          "metadata": {},
          "execution_count": 20
        }
      ]
    },
    {
      "cell_type": "code",
      "source": [
        "pattern = \"Born(.*)\"\n",
        "\n",
        "matches = re.findall(pattern, texts)\n",
        "matches"
      ],
      "metadata": {
        "colab": {
          "base_uri": "https://localhost:8080/"
        },
        "id": "WpBtPmjzLq4F",
        "outputId": "dd2f37b7-358a-4c43-f403-2e2c95b012eb"
      },
      "execution_count": 21,
      "outputs": [
        {
          "output_type": "execute_result",
          "data": {
            "text/plain": [
              "['\\tElon Reeve Musk']"
            ]
          },
          "metadata": {},
          "execution_count": 21
        }
      ]
    },
    {
      "cell_type": "code",
      "source": [
        "pattern = \"Born(.*)\"\n",
        "\n",
        "matches = re.findall(pattern, texts)\n",
        "matches[0].strip()"
      ],
      "metadata": {
        "colab": {
          "base_uri": "https://localhost:8080/",
          "height": 35
        },
        "id": "08w5QOPvN07n",
        "outputId": "fd912637-b84e-40b0-f43b-a8da460d2443"
      },
      "execution_count": 23,
      "outputs": [
        {
          "output_type": "execute_result",
          "data": {
            "text/plain": [
              "'Elon Reeve Musk'"
            ],
            "application/vnd.google.colaboratory.intrinsic+json": {
              "type": "string"
            }
          },
          "metadata": {},
          "execution_count": 23
        }
      ]
    },
    {
      "cell_type": "code",
      "source": [
        "pattern = \"Born.*\\n(.*)\\(age\"\n",
        "\n",
        "matches = re.findall(pattern, texts)\n",
        "matches[0].strip()"
      ],
      "metadata": {
        "colab": {
          "base_uri": "https://localhost:8080/",
          "height": 35
        },
        "id": "Xt3IP540MVna",
        "outputId": "4caf6b19-7003-41b9-90b8-c6771f055823"
      },
      "execution_count": 22,
      "outputs": [
        {
          "output_type": "execute_result",
          "data": {
            "text/plain": [
              "'June 28, 1971'"
            ],
            "application/vnd.google.colaboratory.intrinsic+json": {
              "type": "string"
            }
          },
          "metadata": {},
          "execution_count": 22
        }
      ]
    },
    {
      "cell_type": "code",
      "source": [
        "#to get the birth place\n",
        "pattern = \"\\(age.*\\n(.*)\"\n",
        "\n",
        "matches = re.findall(pattern, texts)\n",
        "matches[0].strip()"
      ],
      "metadata": {
        "colab": {
          "base_uri": "https://localhost:8080/",
          "height": 35
        },
        "id": "N5SkiX0UNNFS",
        "outputId": "accc64a7-3a22-4c32-a262-2f3d6cd2400a"
      },
      "execution_count": 24,
      "outputs": [
        {
          "output_type": "execute_result",
          "data": {
            "text/plain": [
              "'Pretoria, Transvaal, South Africa'"
            ],
            "application/vnd.google.colaboratory.intrinsic+json": {
              "type": "string"
            }
          },
          "metadata": {},
          "execution_count": 24
        }
      ]
    },
    {
      "cell_type": "code",
      "source": [
        "#to prevent repetition\n",
        "def get_pattern_match(pattern, text):\n",
        "  matches = re.findall(pattern, text)\n",
        "  if matches:\n",
        "    return matches[0]"
      ],
      "metadata": {
        "id": "LAMc0nZCO3qC"
      },
      "execution_count": 25,
      "outputs": []
    },
    {
      "cell_type": "code",
      "source": [
        "get_pattern_match('\\(age.*\\n(.*)', texts)"
      ],
      "metadata": {
        "colab": {
          "base_uri": "https://localhost:8080/",
          "height": 35
        },
        "id": "Md5X21c4PnKB",
        "outputId": "a9b8d48c-2685-49ec-a4f2-f479e45397a7"
      },
      "execution_count": 27,
      "outputs": [
        {
          "output_type": "execute_result",
          "data": {
            "text/plain": [
              "'Pretoria, Transvaal, South Africa'"
            ],
            "application/vnd.google.colaboratory.intrinsic+json": {
              "type": "string"
            }
          },
          "metadata": {},
          "execution_count": 27
        }
      ]
    },
    {
      "cell_type": "code",
      "source": [
        "def get_personal_information(text):\n",
        "  age = get_pattern_match('age.(\\d+)', text)\n",
        "  full_name = get_pattern_match('Born(.*)\\n', text)\n",
        "  birth_date = get_pattern_match('Born.*\\n(.*)\\(age', text)\n",
        "  birth_place = get_pattern_match('\\(age.*\\n(.*)', text)\n",
        "\n",
        "  return{\n",
        "      'age': int(age),\n",
        "      'name': full_name.strip(),\n",
        "      'birth_date': birth_date.strip(),\n",
        "      'birth_place':birth_place.strip()\n",
        "  }"
      ],
      "metadata": {
        "id": "PLSwhsuFPxAx"
      },
      "execution_count": 41,
      "outputs": []
    },
    {
      "cell_type": "code",
      "source": [
        "get_personal_information(texts)"
      ],
      "metadata": {
        "colab": {
          "base_uri": "https://localhost:8080/"
        },
        "id": "PJanChJdX-9X",
        "outputId": "8156bb63-1d0f-431c-fce0-736d4b984a0d"
      },
      "execution_count": 42,
      "outputs": [
        {
          "output_type": "execute_result",
          "data": {
            "text/plain": [
              "{'age': 52,\n",
              " 'name': 'Elon Reeve Musk',\n",
              " 'birth_date': 'June 28, 1971',\n",
              " 'birth_place': 'Pretoria, Transvaal, South Africa'}"
            ]
          },
          "metadata": {},
          "execution_count": 42
        }
      ]
    },
    {
      "cell_type": "code",
      "source": [],
      "metadata": {
        "id": "Eh9iSwNoZEBn"
      },
      "execution_count": null,
      "outputs": []
    }
  ]
}